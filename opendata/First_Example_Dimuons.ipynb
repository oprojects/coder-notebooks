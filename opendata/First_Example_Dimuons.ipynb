{
 "cells": [
  {
   "cell_type": "markdown",
   "metadata": {},
   "source": [
    "<img src=\"http://files.oproject.org/img/HeaderOpenData.png\">\n",
    "\n",
    "# CMS Open Data Example #1: Di-Muons\n",
    "## Import Modules and Turn on Javascript"
   ]
  },
  {
   "cell_type": "code",
   "execution_count": null,
   "metadata": {
    "collapsed": false,
    "scrolled": true
   },
   "outputs": [],
   "source": [
    "from ROOT import TFile, TTree, TCanvas, TH1F\n",
    "\n",
    "%jsroot on"
   ]
  },
  {
   "cell_type": "markdown",
   "metadata": {},
   "source": [
    "## Read in Data from Input File"
   ]
  },
  {
   "cell_type": "code",
   "execution_count": null,
   "metadata": {
    "collapsed": false
   },
   "outputs": [],
   "source": [
    "file = TFile(\"data/Dimuons.root\",\"READ\")\n",
    "\n",
    "Dimuons = file.Get(\"Dimuons\")"
   ]
  },
  {
   "cell_type": "markdown",
   "metadata": {},
   "source": [
    "## Plot Muon Charge and Momentum"
   ]
  },
  {
   "cell_type": "markdown",
   "metadata": {},
   "source": [
    "### Setup the Canvas"
   ]
  },
  {
   "cell_type": "code",
   "execution_count": null,
   "metadata": {
    "collapsed": false
   },
   "outputs": [],
   "source": [
    "canvas = TCanvas()\n",
    "\n",
    "canvas.Divide(2,2)"
   ]
  },
  {
   "cell_type": "markdown",
   "metadata": {},
   "source": [
    "### Plot First Muon Charge and Momentum"
   ]
  },
  {
   "cell_type": "code",
   "execution_count": null,
   "metadata": {
    "collapsed": false,
    "scrolled": true
   },
   "outputs": [],
   "source": [
    "canvas.cd(1)\n",
    "Dimuons.Draw(\"Muon1_Px\")\n",
    "\n",
    "canvas.cd(2);\n",
    "Dimuons.Draw(\"Muon1_Py\")\n",
    "\n",
    "canvas.cd(3);\n",
    "Dimuons.Draw(\"Muon1_Pz\")\n",
    "\n",
    "canvas.cd(4);\n",
    "Dimuons.Draw(\"Muon1_Charge\");\n",
    "\n",
    "canvas.Draw();"
   ]
  },
  {
   "cell_type": "markdown",
   "metadata": {},
   "source": [
    "### Plot Second Muon Charge and Momentum"
   ]
  },
  {
   "cell_type": "code",
   "execution_count": null,
   "metadata": {
    "collapsed": false,
    "scrolled": true
   },
   "outputs": [],
   "source": [
    "canvas.cd(1) \n",
    "Dimuons.Draw(\"Muon2_Px\")\n",
    "\n",
    "canvas.cd(2)\n",
    "Dimuons.Draw(\"Muon2_Py\")\n",
    "\n",
    "canvas.cd(3)\n",
    "Dimuons.Draw(\"Muon2_Pz\")\n",
    "\n",
    "canvas.cd(4)\n",
    "Dimuons.Draw(\"Muon2_Charge\")\n",
    "\n",
    "canvas.Draw()"
   ]
  },
  {
   "cell_type": "markdown",
   "metadata": {},
   "source": [
    "## Apply Muon Quality Selection: \n",
    "<img src=\"http://cms.web.cern.ch/sites/cms.web.cern.ch/files/styles/large/public/field/image/2011-bs-1-2.jpg?itok=k5_hcnFt\"></img> <BR>\n",
    "Muon _Global = 1 is a Global Muon (Global Muons have higher probability to be real muons)<BR>\n",
    "Muon _Global = 0 not a Global Muon <BR>"
   ]
  },
  {
   "cell_type": "code",
   "execution_count": null,
   "metadata": {
    "collapsed": true
   },
   "outputs": [],
   "source": [
    "Selection = \"Muon1_Global == 1 && Muon2_Global == 1\""
   ]
  },
  {
   "cell_type": "markdown",
   "metadata": {},
   "source": [
    "# Compute Di-Muon Invariant Mass\n",
    "Let's calculate the invariant mass $M$ of the two muons using a formula"
   ]
  },
  {
   "cell_type": "markdown",
   "metadata": {},
   "source": [
    "## Declare Histogram"
   ]
  },
  {
   "cell_type": "code",
   "execution_count": null,
   "metadata": {
    "collapsed": false
   },
   "outputs": [],
   "source": [
    "InvariantMass = TH1F(\"InvariantMass\",\"#mu#mu mass; #mu#mu mass [GeV];Events\", 900, 2, 120)"
   ]
  },
  {
   "cell_type": "markdown",
   "metadata": {},
   "source": [
    "## Define Invariant Mass Formula"
   ]
  },
  {
   "cell_type": "code",
   "execution_count": null,
   "metadata": {
    "collapsed": false
   },
   "outputs": [],
   "source": [
    "InvariantMassFormula =\"sqrt((Muon1_Energy + Muon2_Energy)^2 - (Muon1_Px + Muon2_Px)^2 - (Muon1_Py + Muon2_Py)^2 - (Muon1_Pz + Muon2_Pz)^2)\""
   ]
  },
  {
   "cell_type": "markdown",
   "metadata": {},
   "source": [
    "## Plot Results"
   ]
  },
  {
   "cell_type": "code",
   "execution_count": null,
   "metadata": {
    "collapsed": false
   },
   "outputs": [],
   "source": [
    "Canvas = TCanvas()\n",
    "\n",
    "Dimuons.Draw( InvariantMassFormula + \">>InvariantMass\", Selection)\n",
    "\n",
    "Canvas.SetLogy()\n",
    "\n",
    "Canvas.SetLogx()\n",
    "\n",
    "Canvas.Draw()"
   ]
  },
  {
   "cell_type": "markdown",
   "metadata": {
    "collapsed": true
   },
   "source": [
    "## Exercise 1a: Can you spot any Di-Muon Resonances by eye?"
   ]
  },
  {
   "cell_type": "markdown",
   "metadata": {},
   "source": [
    "## Exercise 1b: Toggle Logarithmic scale on/off with Your Mouse "
   ]
  },
  {
   "cell_type": "markdown",
   "metadata": {},
   "source": [
    "## Exercise 1c: Zoom In on a One of the Resonances with Your Mouse"
   ]
  },
  {
   "cell_type": "markdown",
   "metadata": {},
   "source": [
    "## Exercise 2: Repeat exercise 1b by modifying code in cell [12]"
   ]
  },
  {
   "cell_type": "code",
   "execution_count": null,
   "metadata": {
    "collapsed": true
   },
   "outputs": [],
   "source": []
  }
 ],
 "metadata": {
  "kernelspec": {
   "display_name": "Python 2",
   "language": "python",
   "name": "python2"
  },
  "language_info": {
   "codemirror_mode": {
    "name": "ipython",
    "version": 2
   },
   "file_extension": ".py",
   "mimetype": "text/x-python",
   "name": "python",
   "nbconvert_exporter": "python",
   "pygments_lexer": "ipython2",
   "version": "2.7.12"
  }
 },
 "nbformat": 4,
 "nbformat_minor": 0
}
